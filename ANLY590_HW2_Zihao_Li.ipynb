{
  "nbformat": 4,
  "nbformat_minor": 0,
  "metadata": {
    "colab": {
      "name": "ANLY590_HW2_Zihao Li.ipynb",
      "version": "0.3.2",
      "provenance": []
    },
    "kernelspec": {
      "display_name": "Python 3",
      "language": "python",
      "name": "python3"
    }
  },
  "cells": [
    {
      "metadata": {
        "id": "vlHosx1rDpcy",
        "colab_type": "code",
        "colab": {
          "base_uri": "https://localhost:8080/",
          "height": 34
        },
        "outputId": "9d04361f-811d-4b9a-de57-569285ea8a87"
      },
      "cell_type": "code",
      "source": [
        "from keras.models import Model, Sequential\n",
        "from keras import backend as K\n",
        "import matplotlib.pyplot as plt\n",
        "import numpy as np\n",
        "from keras.datasets import fashion_mnist\n",
        "from keras.layers import Input, Conv2D, MaxPooling2D, UpSampling2D, Dense, Flatten, GRU, Embedding, Conv1D, MaxPooling1D, Dropout\n",
        "from keras.layers.normalization import BatchNormalization\n",
        "from keras.models import Model, Sequential\n",
        "from keras.utils import to_categorical\n",
        "from keras.applications import VGG16\n",
        "from keras.applications.vgg16 import preprocess_input\n",
        "from keras.preprocessing.image import img_to_array, array_to_img\n",
        "from keras.preprocessing.text import Tokenizer, text_to_word_sequence\n",
        "from keras.optimizers import Adam\n",
        "import pandas as pd\n",
        "import matplotlib.pyplot as plt\n",
        "from sklearn.model_selection import train_test_split\n",
        "from sklearn.metrics import roc_curve, auc\n",
        "import requests\n",
        "import cv2\n",
        "from keras import layers"
      ],
      "execution_count": 1,
      "outputs": [
        {
          "output_type": "stream",
          "text": [
            "Using TensorFlow backend.\n"
          ],
          "name": "stderr"
        }
      ]
    },
    {
      "metadata": {
        "id": "W9LVa6Y-Dpc2",
        "colab_type": "text"
      },
      "cell_type": "markdown",
      "source": [
        "# Autoencoder"
      ]
    },
    {
      "metadata": {
        "id": "fdhE9cD9Dpc3",
        "colab_type": "code",
        "colab": {},
        "outputId": "f57d401f-19dd-4c26-970f-c280cb898cdd"
      },
      "cell_type": "code",
      "source": [
        "(x_train, y_train), (x_test, y_test) = fashion_mnist.load_data()\n",
        "# data normalization\n",
        "x_train = x_train.astype(\"float32\")/255\n",
        "x_test = x_test.astype(\"float32\")/255\n",
        "x_train = x_train.reshape(-1,28,28,1)\n",
        "x_test = x_test.reshape(-1,28,28,1)\n",
        "x_train, x_test, y_train, y_test = train_test_split(x_train, y_train, test_size = 0.3, random_state = 666)\n",
        "y_train = to_categorical(y_train, 10)\n",
        "y_test = to_categorical(y_test, 10)\n",
        "\n",
        "print (x_train.shape)\n",
        "print (x_test.shape)\n",
        "print (y_train.shape)\n",
        "print (y_test.shape)"
      ],
      "execution_count": 0,
      "outputs": [
        {
          "output_type": "stream",
          "text": [
            "(42000, 28, 28, 1)\n",
            "(18000, 28, 28, 1)\n",
            "(42000, 10)\n",
            "(18000, 10)\n"
          ],
          "name": "stdout"
        }
      ]
    },
    {
      "metadata": {
        "id": "QPLRwoklDpc6",
        "colab_type": "code",
        "colab": {}
      },
      "cell_type": "code",
      "source": [
        "# encoding\n",
        "input_img = Input(shape = (28, 28, 1))\n",
        "\n",
        "x1 = Conv2D(16, (3, 3), activation = \"relu\", padding = \"same\")(input_img) #28*28*32\n",
        "x1 = BatchNormalization()(x1)\n",
        "x1 = MaxPooling2D(pool_size = (2, 2))(x1) # 14*14*32\n",
        "x2 = Conv2D(8, (3, 3), activation = \"relu\", padding = \"same\")(x1) # 14*14*64\n",
        "x2 = BatchNormalization()(x2)\n",
        "x2 = MaxPooling2D(pool_size = (2, 2))(x2) # 7*7*64\n",
        "x3 = Conv2D(4, (3, 3), activation = \"relu\", padding = \"same\")(x2) # 7*7*128\n",
        "x3 = BatchNormalization()(x3)\n",
        "x4 = Conv2D(2, (3, 3), activation = \"relu\", padding = \"same\")(x3) # 7*7*256\n",
        "encoded = BatchNormalization()(x4)"
      ],
      "execution_count": 0,
      "outputs": []
    },
    {
      "metadata": {
        "id": "J-XobumxDpc8",
        "colab_type": "code",
        "colab": {}
      },
      "cell_type": "code",
      "source": [
        "# decoding\n",
        "x5 = Conv2D(4, (3, 3), activation = \"relu\", padding = \"same\")(encoded) #7*7*128\n",
        "x5 = BatchNormalization()(x5)\n",
        "x6 = Conv2D(8, (3, 3), activation = \"relu\", padding = \"same\")(x5) #7*7*64\n",
        "x6 = BatchNormalization()(x6)\n",
        "x6 = UpSampling2D(size = (2, 2))(x6) #14*14*64\n",
        "x7 = Conv2D(16, (3, 3), activation = \"relu\", padding = \"same\")(x6)\n",
        "x7 = BatchNormalization()(x7)\n",
        "x7 = UpSampling2D(size = (2, 2))(x7) #28*28*32\n",
        "decoded = Conv2D(1, (3, 3), activation='sigmoid', padding='same')(x7)"
      ],
      "execution_count": 0,
      "outputs": []
    },
    {
      "metadata": {
        "id": "soAzZgGSDpc_",
        "colab_type": "code",
        "colab": {}
      },
      "cell_type": "code",
      "source": [
        "autoencoder = Model(input_img, decoded)\n",
        "autoencoder.compile(optimizer='adadelta', loss='mean_squared_error')"
      ],
      "execution_count": 0,
      "outputs": []
    },
    {
      "metadata": {
        "id": "dDStMhPeDpdB",
        "colab_type": "code",
        "colab": {},
        "outputId": "8aad3d27-c0d7-478b-e320-badcf58ed798"
      },
      "cell_type": "code",
      "source": [
        "autoencoder.fit(x_train, x_train,\n",
        "                epochs=5,\n",
        "                batch_size=128,\n",
        "                shuffle=True,\n",
        "                validation_data=(x_test, x_test))"
      ],
      "execution_count": 0,
      "outputs": [
        {
          "output_type": "stream",
          "text": [
            "Train on 42000 samples, validate on 18000 samples\n",
            "Epoch 1/5\n",
            "42000/42000 [==============================] - 77s 2ms/step - loss: 0.0443 - val_loss: 0.0312\n",
            "Epoch 2/5\n",
            "42000/42000 [==============================] - 76s 2ms/step - loss: 0.0250 - val_loss: 0.0329\n",
            "Epoch 3/5\n",
            "42000/42000 [==============================] - 76s 2ms/step - loss: 0.0211 - val_loss: 0.0231\n",
            "Epoch 4/5\n",
            "42000/42000 [==============================] - 76s 2ms/step - loss: 0.0190 - val_loss: 0.0190\n",
            "Epoch 5/5\n",
            "42000/42000 [==============================] - 76s 2ms/step - loss: 0.0176 - val_loss: 0.0176\n"
          ],
          "name": "stdout"
        },
        {
          "output_type": "execute_result",
          "data": {
            "text/plain": [
              "<keras.callbacks.History at 0x1a25b581d0>"
            ]
          },
          "metadata": {
            "tags": []
          },
          "execution_count": 7
        }
      ]
    },
    {
      "metadata": {
        "id": "3tK_QgS9DpdF",
        "colab_type": "code",
        "colab": {},
        "outputId": "0c028439-aa65-4dd8-ea3e-29dd9956b31c"
      },
      "cell_type": "code",
      "source": [
        "decoded_imgs = autoencoder.predict(x_test)\n",
        "\n",
        "n = 10\n",
        "plt.figure(figsize=(20, 4))\n",
        "\n",
        "for i in range(n):\n",
        "    # display original\n",
        "    ax = plt.subplot(2, n, i+1)\n",
        "    plt.imshow(x_test[i].reshape(28, 28))\n",
        "    plt.gray()\n",
        "    ax.get_xaxis().set_visible(False)\n",
        "    ax.get_yaxis().set_visible(False)\n",
        "\n",
        "    # display reconstruction\n",
        "    ax = plt.subplot(2, n, i + 1 + n)\n",
        "    plt.imshow(decoded_imgs[i].reshape(28, 28))\n",
        "    plt.gray()\n",
        "    ax.get_xaxis().set_visible(False)\n",
        "    ax.get_yaxis().set_visible(False)\n",
        "plt.show()"
      ],
      "execution_count": 0,
      "outputs": [
        {
          "output_type": "display_data",
          "data": {
            "image/png": "[encoded data removed]",
            "text/plain": [
              "<matplotlib.figure.Figure at 0x1a2a7ce4a8>"
            ]
          },
          "metadata": {
            "tags": []
          }
        }
      ]
    },
    {
      "metadata": {
        "id": "vDF64VhJDpdK",
        "colab_type": "text"
      },
      "cell_type": "markdown",
      "source": [
        "# Iamge Classification\n",
        "\n",
        "## Deep CNN"
      ]
    },
    {
      "metadata": {
        "id": "85iaXL7uDpdK",
        "colab_type": "code",
        "colab": {}
      },
      "cell_type": "code",
      "source": [
        "model = Sequential()\n",
        "model.add(Conv2D(32, (3, 3), activation = \"relu\", padding = \"same\", input_shape = (28, 28, 1)))\n",
        "model.add(MaxPooling2D((2, 2)))\n",
        "model.add(Conv2D(64, (3, 3), activation = \"relu\", padding = \"same\"))\n",
        "model.add(MaxPooling2D((2, 2)))\n",
        "model.add(Conv2D(128, (3, 3), activation = \"relu\", padding = \"same\"))\n",
        "model.add(Flatten())\n",
        "model.add(Dense(128, activation = \"relu\"))\n",
        "model.add(Dense(10, activation = \"softmax\"))\n",
        "model.compile(loss = \"categorical_crossentropy\", optimizer = \"adadelta\", metrics = [\"accuracy\"])"
      ],
      "execution_count": 0,
      "outputs": []
    },
    {
      "metadata": {
        "id": "Ab_BY_RPDpdM",
        "colab_type": "code",
        "colab": {},
        "outputId": "5c075cd1-71bb-4f10-a64c-57936517ae7a"
      },
      "cell_type": "code",
      "source": [
        "model.summary()"
      ],
      "execution_count": 0,
      "outputs": [
        {
          "output_type": "stream",
          "text": [
            "_________________________________________________________________\n",
            "Layer (type)                 Output Shape              Param #   \n",
            "=================================================================\n",
            "conv2d_9 (Conv2D)            (None, 28, 28, 32)        320       \n",
            "_________________________________________________________________\n",
            "max_pooling2d_3 (MaxPooling2 (None, 14, 14, 32)        0         \n",
            "_________________________________________________________________\n",
            "conv2d_10 (Conv2D)           (None, 14, 14, 64)        18496     \n",
            "_________________________________________________________________\n",
            "max_pooling2d_4 (MaxPooling2 (None, 7, 7, 64)          0         \n",
            "_________________________________________________________________\n",
            "conv2d_11 (Conv2D)           (None, 7, 7, 128)         73856     \n",
            "_________________________________________________________________\n",
            "flatten_1 (Flatten)          (None, 6272)              0         \n",
            "_________________________________________________________________\n",
            "dense_1 (Dense)              (None, 128)               802944    \n",
            "_________________________________________________________________\n",
            "dense_2 (Dense)              (None, 10)                1290      \n",
            "=================================================================\n",
            "Total params: 896,906\n",
            "Trainable params: 896,906\n",
            "Non-trainable params: 0\n",
            "_________________________________________________________________\n"
          ],
          "name": "stdout"
        }
      ]
    },
    {
      "metadata": {
        "id": "9ds_Ou82DpdP",
        "colab_type": "text"
      },
      "cell_type": "markdown",
      "source": [
        "At first convolution 2D layer, there are 32 kernels (3x3 kernel shape) which will result in 32 Feature Maps output.\n",
        "padding = \"same\" means that the output array has the same shape as the input. \n",
        "Since input shape is (28,28,1), the first output shape is (28, 28, 32). Total 320 (32*10) parameters are trained.\n",
        "At first MaxPooling 2D layer, 2*2 MaxPool will give us the output shape (14, 14, 32) \n",
        "At second convolution 2D layer, there are 64 kernels (3x3 kernel shape) which will result in 64 Feature Maps output.\n",
        "Output Shape is (14, 14, 64), total 18496 parameters are trained.\n",
        "At second MaxPooling 2D layer, 2*2 MaxPool will give us the output shape (7, 7, 64)\n",
        "At last convolution 2D layer, 128 kernals result in 128 output feature map (7, 7, 128), total 73856 parameters are trained. \n",
        "Flatten tensor into vector, total (6272*128) + 128 = 802944 parameters are trained\n",
        "Final classification with dense layer, all parameters are trained. "
      ]
    },
    {
      "metadata": {
        "id": "sZThYU3hDpdQ",
        "colab_type": "code",
        "colab": {},
        "outputId": "ae19a751-2d6d-43fe-e61e-43f645abaab4"
      },
      "cell_type": "code",
      "source": [
        "train_model = model.fit(x_train, y_train, \n",
        "                        epochs = 10, batch_size = 128, \n",
        "                        verbose = 1, validation_data = (x_test, y_test))"
      ],
      "execution_count": 0,
      "outputs": [
        {
          "output_type": "stream",
          "text": [
            "Train on 42000 samples, validate on 18000 samples\n",
            "Epoch 1/10\n",
            "42000/42000 [==============================] - 51s 1ms/step - loss: 0.6129 - acc: 0.7756 - val_loss: 0.4585 - val_acc: 0.8189\n",
            "Epoch 2/10\n",
            "42000/42000 [==============================] - 50s 1ms/step - loss: 0.3480 - acc: 0.8747 - val_loss: 0.3419 - val_acc: 0.8756\n",
            "Epoch 3/10\n",
            "42000/42000 [==============================] - 51s 1ms/step - loss: 0.2860 - acc: 0.8956 - val_loss: 0.4541 - val_acc: 0.8520\n",
            "Epoch 4/10\n",
            "42000/42000 [==============================] - 50s 1ms/step - loss: 0.2521 - acc: 0.9085 - val_loss: 0.3741 - val_acc: 0.8583\n",
            "Epoch 5/10\n",
            "42000/42000 [==============================] - 50s 1ms/step - loss: 0.2218 - acc: 0.9189 - val_loss: 0.4137 - val_acc: 0.8620\n",
            "Epoch 6/10\n",
            "42000/42000 [==============================] - 50s 1ms/step - loss: 0.1990 - acc: 0.9267 - val_loss: 0.2391 - val_acc: 0.9108\n",
            "Epoch 7/10\n",
            "42000/42000 [==============================] - 50s 1ms/step - loss: 0.1797 - acc: 0.9329 - val_loss: 0.2412 - val_acc: 0.9148\n",
            "Epoch 8/10\n",
            "42000/42000 [==============================] - 50s 1ms/step - loss: 0.1592 - acc: 0.9410 - val_loss: 0.2714 - val_acc: 0.9067\n",
            "Epoch 9/10\n",
            "42000/42000 [==============================] - 50s 1ms/step - loss: 0.1435 - acc: 0.9461 - val_loss: 0.3044 - val_acc: 0.8966\n",
            "Epoch 10/10\n",
            "42000/42000 [==============================] - 51s 1ms/step - loss: 0.1248 - acc: 0.9537 - val_loss: 0.3559 - val_acc: 0.8937\n"
          ],
          "name": "stdout"
        }
      ]
    },
    {
      "metadata": {
        "id": "YAN_iBXVDpdS",
        "colab_type": "code",
        "colab": {},
        "outputId": "15f4383b-443c-4b5a-d43f-4f387e6a744a"
      },
      "cell_type": "code",
      "source": [
        "score = model.evaluate(x_test, y_test, verbose = 0)\n",
        "print(\"Test loss:\", score[0])\n",
        "print(\"Test accuracy:\", score[1])"
      ],
      "execution_count": 0,
      "outputs": [
        {
          "output_type": "stream",
          "text": [
            "Test loss: 0.3559369967314932\n",
            "Test accuracy: 0.8936666666666667\n"
          ],
          "name": "stdout"
        }
      ]
    },
    {
      "metadata": {
        "id": "-_PPkziMDpdW",
        "colab_type": "text"
      },
      "cell_type": "markdown",
      "source": [
        "## Transfer Lenarning"
      ]
    },
    {
      "metadata": {
        "id": "iQZNRuIcDpdW",
        "colab_type": "code",
        "colab": {
          "base_uri": "https://localhost:8080/",
          "height": 170
        },
        "outputId": "db5ad953-032f-43da-8e21-659bf40408ae"
      },
      "cell_type": "code",
      "source": [
        "# Preprocessing the input \n",
        "(x_train, y_train), (x_test, y_test) = fashion_mnist.load_data()\n",
        "x_train = x_train.astype(\"float32\")/255\n",
        "x_test = x_test.astype(\"float32\")/255\n",
        "x_train = x_train.reshape(-1,28,28,1)\n",
        "x_test = x_test.reshape(-1,28,28,1)\n",
        "x_train, x_test, y_train, y_test = train_test_split(x_train, y_train, test_size = 0.2, random_state = 789)\n",
        "\n",
        "y_train = to_categorical(y_train, 10)\n",
        "y_test = to_categorical(y_test, 10)\n",
        "\n",
        "x_train = np.asarray([cv2.resize(x, (48,48)) for x in x_train])\n",
        "x_test = np.asarray([cv2.resize(x, (48,48)) for x in x_test])\n",
        "x_train = x_train.reshape(x_train.shape[0], 48, 48, 1)\n",
        "x_test = x_test.reshape(x_test.shape[0], 48, 48, 1)\n",
        "x_train = x_train.repeat(3, axis = -1)\n",
        "x_test = x_test.repeat(3, axis = -1)\n",
        "\n",
        "x_train.shape, x_test.shape, y_train.shape, y_test.shape"
      ],
      "execution_count": 2,
      "outputs": [
        {
          "output_type": "stream",
          "text": [
            "Downloading data from http://fashion-mnist.s3-website.eu-central-1.amazonaws.com/train-labels-idx1-ubyte.gz\n",
            "32768/29515 [=================================] - 0s 4us/step\n",
            "Downloading data from http://fashion-mnist.s3-website.eu-central-1.amazonaws.com/train-images-idx3-ubyte.gz\n",
            "26427392/26421880 [==============================] - 2s 0us/step\n",
            "Downloading data from http://fashion-mnist.s3-website.eu-central-1.amazonaws.com/t10k-labels-idx1-ubyte.gz\n",
            "8192/5148 [===============================================] - 0s 0us/step\n",
            "Downloading data from http://fashion-mnist.s3-website.eu-central-1.amazonaws.com/t10k-images-idx3-ubyte.gz\n",
            "4423680/4422102 [==============================] - 1s 0us/step\n"
          ],
          "name": "stdout"
        },
        {
          "output_type": "execute_result",
          "data": {
            "text/plain": [
              "((48000, 48, 48, 3), (12000, 48, 48, 3), (48000, 10), (12000, 10))"
            ]
          },
          "metadata": {
            "tags": []
          },
          "execution_count": 2
        }
      ]
    },
    {
      "metadata": {
        "id": "xspD40vsDpdb",
        "colab_type": "code",
        "colab": {
          "base_uri": "https://localhost:8080/",
          "height": 51
        },
        "outputId": "876f5471-4323-4bc8-c610-06a702078976"
      },
      "cell_type": "code",
      "source": [
        "x_train = preprocess_input(x_train)\n",
        "x_test  = preprocess_input(x_test)\n",
        "\n",
        "# Create the base model of VGG16\n",
        "vgg16 = VGG16(weights = \"imagenet\", include_top = False, input_shape = (48, 48, 3))"
      ],
      "execution_count": 3,
      "outputs": [
        {
          "output_type": "stream",
          "text": [
            "Downloading data from https://github.com/fchollet/deep-learning-models/releases/download/v0.1/vgg16_weights_tf_dim_ordering_tf_kernels_notop.h5\n",
            "58892288/58889256 [==============================] - 7s 0us/step\n"
          ],
          "name": "stdout"
        }
      ]
    },
    {
      "metadata": {
        "id": "KdODg0GfDpdd",
        "colab_type": "code",
        "colab": {
          "base_uri": "https://localhost:8080/",
          "height": 51
        },
        "outputId": "dc012e56-1a49-4af4-a449-3f4cb6ec2b82"
      },
      "cell_type": "code",
      "source": [
        "# Extracting features\n",
        "train_features = vgg16.predict(x_train, batch_size=16, verbose=1)\n",
        "test_features = vgg16.predict(x_test, batch_size=16, verbose=1)"
      ],
      "execution_count": 4,
      "outputs": [
        {
          "output_type": "stream",
          "text": [
            "48000/48000 [==============================] - 1205s 25ms/step\n",
            "12000/12000 [==============================] - 303s 25ms/step\n"
          ],
          "name": "stdout"
        }
      ]
    },
    {
      "metadata": {
        "id": "jUeYZi3LDpdg",
        "colab_type": "code",
        "colab": {}
      },
      "cell_type": "code",
      "source": [
        "train_features_flat = np.reshape(train_features, (48000, 1*1*512))\n",
        "test_features_flat = np.reshape(test_features, (12000, 1*1*512))"
      ],
      "execution_count": 0,
      "outputs": []
    },
    {
      "metadata": {
        "id": "xSHkRJnoDpdj",
        "colab_type": "code",
        "colab": {}
      },
      "cell_type": "code",
      "source": [
        "model_tl = Sequential()\n",
        "model_tl.add(Dense(512, activation='relu', input_dim=(1*1*512)))\n",
        "model_tl.add(Dense(10, activation='softmax'))"
      ],
      "execution_count": 0,
      "outputs": []
    },
    {
      "metadata": {
        "id": "y7uK8ZmmDpdk",
        "colab_type": "code",
        "colab": {
          "base_uri": "https://localhost:8080/",
          "height": 85
        },
        "outputId": "34946f79-36eb-4a2a-9cec-a83ed3bbcd85"
      },
      "cell_type": "code",
      "source": [
        "vgg16.trainable = False\n",
        "model_tl.trainable_weights"
      ],
      "execution_count": 12,
      "outputs": [
        {
          "output_type": "execute_result",
          "data": {
            "text/plain": [
              "[<tf.Variable 'dense_1/kernel:0' shape=(512, 512) dtype=float32_ref>,\n",
              " <tf.Variable 'dense_1/bias:0' shape=(512,) dtype=float32_ref>,\n",
              " <tf.Variable 'dense_2/kernel:0' shape=(512, 10) dtype=float32_ref>,\n",
              " <tf.Variable 'dense_2/bias:0' shape=(10,) dtype=float32_ref>]"
            ]
          },
          "metadata": {
            "tags": []
          },
          "execution_count": 12
        }
      ]
    },
    {
      "metadata": {
        "id": "g6sw4JMxDpdo",
        "colab_type": "code",
        "colab": {
          "base_uri": "https://localhost:8080/",
          "height": 204
        },
        "outputId": "1b613812-bed2-4de4-d248-5ac65c4de7d2"
      },
      "cell_type": "code",
      "source": [
        "model_tl.summary()"
      ],
      "execution_count": 13,
      "outputs": [
        {
          "output_type": "stream",
          "text": [
            "_________________________________________________________________\n",
            "Layer (type)                 Output Shape              Param #   \n",
            "=================================================================\n",
            "dense_1 (Dense)              (None, 512)               262656    \n",
            "_________________________________________________________________\n",
            "dense_2 (Dense)              (None, 10)                5130      \n",
            "=================================================================\n",
            "Total params: 267,786\n",
            "Trainable params: 267,786\n",
            "Non-trainable params: 0\n",
            "_________________________________________________________________\n"
          ],
          "name": "stdout"
        }
      ]
    },
    {
      "metadata": {
        "id": "XOymg7MwDpdr",
        "colab_type": "code",
        "colab": {}
      },
      "cell_type": "code",
      "source": [
        "model_tl.compile(loss = \"categorical_crossentropy\", optimizer = \"adam\", metrics = [\"acc\"])"
      ],
      "execution_count": 0,
      "outputs": []
    },
    {
      "metadata": {
        "id": "mME_go0WDpdu",
        "colab_type": "code",
        "colab": {
          "base_uri": "https://localhost:8080/",
          "height": 731
        },
        "outputId": "d0a05a63-678e-4227-a7c2-45907d0aa1b4"
      },
      "cell_type": "code",
      "source": [
        "model_tl.fit(train_features_flat, y_train, \n",
        "             batch_size = 128, epochs = 20, \n",
        "             validation_data = (test_features_flat, y_test), verbose = 1)"
      ],
      "execution_count": 16,
      "outputs": [
        {
          "output_type": "stream",
          "text": [
            "Train on 48000 samples, validate on 12000 samples\n",
            "Epoch 1/20\n",
            "48000/48000 [==============================] - 3s 61us/step - loss: 1.3428 - acc: 0.4993 - val_loss: 1.2311 - val_acc: 0.5775\n",
            "Epoch 2/20\n",
            "48000/48000 [==============================] - 3s 63us/step - loss: 1.2039 - acc: 0.5622 - val_loss: 1.1306 - val_acc: 0.5922\n",
            "Epoch 3/20\n",
            "48000/48000 [==============================] - 3s 65us/step - loss: 1.1095 - acc: 0.5981 - val_loss: 1.1142 - val_acc: 0.5981\n",
            "Epoch 4/20\n",
            "48000/48000 [==============================] - 3s 66us/step - loss: 1.0485 - acc: 0.6233 - val_loss: 1.0448 - val_acc: 0.6248\n",
            "Epoch 5/20\n",
            "48000/48000 [==============================] - 3s 63us/step - loss: 1.0004 - acc: 0.6387 - val_loss: 0.9736 - val_acc: 0.6421\n",
            "Epoch 6/20\n",
            "48000/48000 [==============================] - 3s 62us/step - loss: 0.9621 - acc: 0.6532 - val_loss: 0.9260 - val_acc: 0.6691\n",
            "Epoch 7/20\n",
            "48000/48000 [==============================] - 3s 62us/step - loss: 0.9381 - acc: 0.6643 - val_loss: 0.8966 - val_acc: 0.6920\n",
            "Epoch 8/20\n",
            "48000/48000 [==============================] - 3s 61us/step - loss: 0.9183 - acc: 0.6685 - val_loss: 0.9072 - val_acc: 0.6697\n",
            "Epoch 9/20\n",
            "48000/48000 [==============================] - 3s 62us/step - loss: 0.8969 - acc: 0.6766 - val_loss: 0.8771 - val_acc: 0.6809\n",
            "Epoch 10/20\n",
            "48000/48000 [==============================] - 3s 63us/step - loss: 0.8819 - acc: 0.6827 - val_loss: 0.8776 - val_acc: 0.6850\n",
            "Epoch 11/20\n",
            "48000/48000 [==============================] - 3s 62us/step - loss: 0.8657 - acc: 0.6878 - val_loss: 0.8485 - val_acc: 0.7017\n",
            "Epoch 12/20\n",
            "48000/48000 [==============================] - 3s 62us/step - loss: 0.8568 - acc: 0.6887 - val_loss: 0.8086 - val_acc: 0.7084\n",
            "Epoch 13/20\n",
            "48000/48000 [==============================] - 3s 63us/step - loss: 0.8404 - acc: 0.6963 - val_loss: 0.8551 - val_acc: 0.6741\n",
            "Epoch 14/20\n",
            "48000/48000 [==============================] - 3s 62us/step - loss: 0.8321 - acc: 0.6987 - val_loss: 0.8168 - val_acc: 0.7085\n",
            "Epoch 15/20\n",
            "48000/48000 [==============================] - 3s 63us/step - loss: 0.8236 - acc: 0.7026 - val_loss: 0.8165 - val_acc: 0.7023\n",
            "Epoch 16/20\n",
            "48000/48000 [==============================] - 3s 62us/step - loss: 0.8193 - acc: 0.7036 - val_loss: 0.8102 - val_acc: 0.7035\n",
            "Epoch 17/20\n",
            "48000/48000 [==============================] - 3s 62us/step - loss: 0.8068 - acc: 0.7079 - val_loss: 0.7788 - val_acc: 0.7225\n",
            "Epoch 18/20\n",
            "48000/48000 [==============================] - 3s 63us/step - loss: 0.8008 - acc: 0.7104 - val_loss: 0.7887 - val_acc: 0.7104\n",
            "Epoch 19/20\n",
            "48000/48000 [==============================] - 3s 63us/step - loss: 0.7985 - acc: 0.7101 - val_loss: 0.8066 - val_acc: 0.7052\n",
            "Epoch 20/20\n",
            "48000/48000 [==============================] - 3s 62us/step - loss: 0.7926 - acc: 0.7135 - val_loss: 0.7783 - val_acc: 0.7118\n"
          ],
          "name": "stdout"
        },
        {
          "output_type": "execute_result",
          "data": {
            "text/plain": [
              "<keras.callbacks.History at 0x7f8330087e80>"
            ]
          },
          "metadata": {
            "tags": []
          },
          "execution_count": 16
        }
      ]
    },
    {
      "metadata": {
        "id": "1RhyHUleMWXS",
        "colab_type": "code",
        "colab": {
          "base_uri": "https://localhost:8080/",
          "height": 51
        },
        "outputId": "95757b4b-7a37-40f9-e850-6ad35d315f35"
      },
      "cell_type": "code",
      "source": [
        "tl_test = model_tl.evaluate(test_features_flat, y_test, verbose = 0)\n",
        "print(\"Test loss:\", tl[0])\n",
        "print(\"Test accuracy:\", tl[1])"
      ],
      "execution_count": 20,
      "outputs": [
        {
          "output_type": "stream",
          "text": [
            "Test loss: 0.7782880609035492\n",
            "Test accuracy: 0.7118333333333333\n"
          ],
          "name": "stdout"
        }
      ]
    },
    {
      "metadata": {
        "id": "-eeOgJUpDpdx",
        "colab_type": "text"
      },
      "cell_type": "markdown",
      "source": [
        "# Text Classification\n",
        "## RNN"
      ]
    },
    {
      "metadata": {
        "id": "gI5FfeESDpdy",
        "colab_type": "code",
        "colab": {},
        "outputId": "f5272ce6-a75b-422c-c459-ca4bbd47a39e"
      },
      "cell_type": "code",
      "source": [
        "url_b = requests.get(\"https://s3.amazonaws.com/anly-590/url-classification/benign-urls.txt\").text.split(\"\\n\")\n",
        "url_m = requests.get(\"https://s3.amazonaws.com/anly-590/url-classification/malicious-urls.txt\").text.split(\"\\n\")\n",
        "url_b = [x for x in url_b if x[0] != \"#\"]\n",
        "X_train = np.asarray(url_b + url_m)\n",
        "Y_train = np.concatenate((np.ones(len(url_b)), np.zeros(len(url_m))))\n",
        "print(len(url_b))\n",
        "print(len(url_m))\n",
        "tokenizer = Tokenizer(char_level = True)\n",
        "tokenizer.fit_on_texts(X_train)\n",
        "X_train = tokenizer.texts_to_matrix(X_train, mode = \"count\")\n",
        "print(X_train.shape)\n",
        "maxlen = X_train.shape[1]"
      ],
      "execution_count": 0,
      "outputs": [
        {
          "output_type": "stream",
          "text": [
            "66015\n",
            "1297\n",
            "(67312, 42)\n"
          ],
          "name": "stdout"
        }
      ]
    },
    {
      "metadata": {
        "id": "pXWvVtHhDpdz",
        "colab_type": "code",
        "colab": {}
      },
      "cell_type": "code",
      "source": [
        "X_train, X_test, Y_train, Y_test = train_test_split(X_train, Y_train, test_size = 0.3, random_state = 1234)"
      ],
      "execution_count": 0,
      "outputs": []
    },
    {
      "metadata": {
        "id": "VVAri6SIDpd1",
        "colab_type": "code",
        "colab": {}
      },
      "cell_type": "code",
      "source": [
        "model_rnn = Sequential()\n",
        "model_rnn.add(Embedding(input_dim = 100, output_dim = 32, input_length = maxlen))\n",
        "model_rnn.add(GRU(32))\n",
        "model_rnn.add(Dense(1, activation = \"sigmoid\"))\n",
        "model_rnn.compile(optimizer = \"rmsprop\", loss = \"binary_crossentropy\", metrics = [\"acc\"])"
      ],
      "execution_count": 0,
      "outputs": []
    },
    {
      "metadata": {
        "id": "BCbRA596Dpd4",
        "colab_type": "code",
        "colab": {},
        "outputId": "a2f7bc3b-7d21-45e0-e735-1791013180ce"
      },
      "cell_type": "code",
      "source": [
        "model_rnn.fit(X_train, Y_train, epochs = 5, batch_size = 128, validation_data = (X_test, Y_test), verbose = 1)"
      ],
      "execution_count": 0,
      "outputs": [
        {
          "output_type": "stream",
          "text": [
            "Train on 47118 samples, validate on 20194 samples\n",
            "Epoch 1/5\n",
            "47118/47118 [==============================] - 70s 1ms/step - loss: 0.1050 - acc: 0.9814 - val_loss: 0.0956 - val_acc: 0.9792\n",
            "Epoch 2/5\n",
            "47118/47118 [==============================] - 66s 1ms/step - loss: 0.0682 - acc: 0.9814 - val_loss: 0.0613 - val_acc: 0.9792\n",
            "Epoch 3/5\n",
            "47118/47118 [==============================] - 66s 1ms/step - loss: 0.0560 - acc: 0.9814 - val_loss: 0.0595 - val_acc: 0.9792\n",
            "Epoch 4/5\n",
            "47118/47118 [==============================] - 65s 1ms/step - loss: 0.0551 - acc: 0.9814 - val_loss: 0.0587 - val_acc: 0.9792\n",
            "Epoch 5/5\n",
            "47118/47118 [==============================] - 69s 1ms/step - loss: 0.0547 - acc: 0.9814 - val_loss: 0.0584 - val_acc: 0.9792\n"
          ],
          "name": "stdout"
        },
        {
          "output_type": "execute_result",
          "data": {
            "text/plain": [
              "<keras.callbacks.History at 0x1a302e5f98>"
            ]
          },
          "metadata": {
            "tags": []
          },
          "execution_count": 21
        }
      ]
    },
    {
      "metadata": {
        "id": "q8aFKKNaDpd7",
        "colab_type": "code",
        "colab": {},
        "outputId": "5121d6c8-bf36-4036-d454-2511585ed00f"
      },
      "cell_type": "code",
      "source": [
        "score_rnn = model_rnn.evaluate(X_test, Y_test, verbose = 0)\n",
        "print(\"Test loss:\", score_rnn[0])\n",
        "print(\"Test accuracy:\", score_rnn[1])"
      ],
      "execution_count": 0,
      "outputs": [
        {
          "output_type": "stream",
          "text": [
            "Test loss: 0.0583514247186\n",
            "Test accuracy: 0.979152223433\n"
          ],
          "name": "stdout"
        }
      ]
    },
    {
      "metadata": {
        "id": "-Z1jNb-MDpd_",
        "colab_type": "text"
      },
      "cell_type": "markdown",
      "source": [
        "## CNN"
      ]
    },
    {
      "metadata": {
        "id": "fgATLYLNDpeA",
        "colab_type": "code",
        "colab": {}
      },
      "cell_type": "code",
      "source": [
        "model_cnn = Sequential()\n",
        "model_cnn.add(Embedding(input_dim = 100, output_dim = 32, input_length = maxlen))\n",
        "model_cnn.add(Conv1D(256, 3, activation = \"relu\"))\n",
        "model_cnn.add(MaxPooling1D(3))\n",
        "model_cnn.add(Flatten())\n",
        "model_cnn.add(Dense(256, activation = \"relu\"))\n",
        "model_cnn.add(Dense(1, activation = \"sigmoid\"))\n",
        "model_cnn.compile(loss = \"binary_crossentropy\", optimizer = \"adam\", metrics = [\"acc\"])"
      ],
      "execution_count": 0,
      "outputs": []
    },
    {
      "metadata": {
        "id": "Si3N1AqXDpeB",
        "colab_type": "code",
        "colab": {},
        "outputId": "ceea584b-1b9a-4212-a294-1e56c3f88d51"
      },
      "cell_type": "code",
      "source": [
        "model_cnn.fit(X_train, Y_train, batch_size = 128, epochs = 5, validation_data = (X_test, Y_test))"
      ],
      "execution_count": 0,
      "outputs": [
        {
          "output_type": "stream",
          "text": [
            "Train on 47118 samples, validate on 20194 samples\n",
            "Epoch 1/5\n",
            "47118/47118 [==============================] - 253s 5ms/step - loss: 0.0638 - acc: 0.9790 - val_loss: 0.0414 - val_acc: 0.9825\n",
            "Epoch 2/5\n",
            "47118/47118 [==============================] - 254s 5ms/step - loss: 0.0346 - acc: 0.9856 - val_loss: 0.0395 - val_acc: 0.9838\n",
            "Epoch 3/5\n",
            "47118/47118 [==============================] - 252s 5ms/step - loss: 0.0314 - acc: 0.9868 - val_loss: 0.0343 - val_acc: 0.9865\n",
            "Epoch 4/5\n",
            "47118/47118 [==============================] - 252s 5ms/step - loss: 0.0306 - acc: 0.9877 - val_loss: 0.0339 - val_acc: 0.9871\n",
            "Epoch 5/5\n",
            "47118/47118 [==============================] - 252s 5ms/step - loss: 0.0283 - acc: 0.9886 - val_loss: 0.0333 - val_acc: 0.9871\n"
          ],
          "name": "stdout"
        },
        {
          "output_type": "execute_result",
          "data": {
            "text/plain": [
              "<keras.callbacks.History at 0x1a30ae6588>"
            ]
          },
          "metadata": {
            "tags": []
          },
          "execution_count": 24
        }
      ]
    },
    {
      "metadata": {
        "id": "jWBSuSNuDpeG",
        "colab_type": "code",
        "colab": {},
        "outputId": "d2ac2986-74c0-408f-973d-ee24d1979253"
      },
      "cell_type": "code",
      "source": [
        "score_cnn = model_cnn.evaluate(X_test, Y_test, verbose = 0)\n",
        "print(\"Test loss:\", score_cnn[0])\n",
        "print(\"Test accuracy:\", score_cnn[1])"
      ],
      "execution_count": 0,
      "outputs": [
        {
          "output_type": "stream",
          "text": [
            "Test loss: 0.0332764909487\n",
            "Test accuracy: 0.987124888581\n"
          ],
          "name": "stdout"
        }
      ]
    },
    {
      "metadata": {
        "id": "mVoy-E5tDpeK",
        "colab_type": "text"
      },
      "cell_type": "markdown",
      "source": [
        "## Compare RNN & CNN"
      ]
    },
    {
      "metadata": {
        "id": "78D2kaxIDpeK",
        "colab_type": "code",
        "colab": {}
      },
      "cell_type": "code",
      "source": [
        "Y_rnn = model_rnn.predict(X_test).ravel()\n",
        "Y_cnn = model_cnn.predict(X_test).ravel()\n",
        "fpr_r, tpr_r, thresholds_r = roc_curve(Y_test, Y_rnn)\n",
        "auc_r = auc(fpr_r, tpr_r)\n",
        "fpr_c, tpr_c, thresholds_c = roc_curve(Y_test, Y_cnn)\n",
        "auc_c = auc(fpr_c, tpr_c)"
      ],
      "execution_count": 0,
      "outputs": []
    },
    {
      "metadata": {
        "id": "3TNT8WFBDpeM",
        "colab_type": "code",
        "colab": {},
        "outputId": "66cfcfef-adf3-4122-83e2-ebdd85bc49be"
      },
      "cell_type": "code",
      "source": [
        "plt.figure(1)\n",
        "plt.plot(fpr_r, tpr_r, label='RNN (area = {:.3f})'.format(auc_r))\n",
        "plt.plot(fpr_c, tpr_c, label='CNN (area = {:.3f})'.format(auc_c))\n",
        "plt.xlabel('False positive rate')\n",
        "plt.ylabel('True positive rate')\n",
        "plt.title('ROC curve')\n",
        "plt.legend()\n",
        "plt.show()"
      ],
      "execution_count": 0,
      "outputs": [
        {
          "output_type": "display_data",
          "data": {
            "image/png": "[encoded data removed]",
            "text/plain": [
              "<matplotlib.figure.Figure at 0x1a319dc8d0>"
            ]
          },
          "metadata": {
            "tags": [],
            "needs_background": "light"
          }
        }
      ]
    },
    {
      "metadata": {
        "id": "NmgxVXEHDpeP",
        "colab_type": "code",
        "colab": {}
      },
      "cell_type": "code",
      "source": [
        ""
      ],
      "execution_count": 0,
      "outputs": []
    }
  ]
}